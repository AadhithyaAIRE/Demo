from PIL import Image
import numpy as np
from skimage.feature import graycomatrix, graycoprops
from skimage.color import rgb2gray

im_frame = Image.open('Your_Image.png')
image = (255*rgb2gray(np.array(im_frame))).astype(np.uint8) # 'Your_2D_np_array'


# Generate GLCM
distances = [50] # Offset
angles = [np.pi/2]  # Vertical Direction
glcm = graycomatrix(image, distances=distances, angles=angles,levels=255)


# Calculate Features from GLCM
contrast = graycoprops(glcm, 'contrast')
dissimilarity = graycoprops(glcm, 'dissimilarity')
homogeneity = graycoprops(glcm, 'homogeneity')
energy = graycoprops(glcm, 'energy')
correlation = graycoprops(glcm, 'correlation')
